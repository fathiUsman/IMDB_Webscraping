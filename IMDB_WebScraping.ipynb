{
  "nbformat": 4,
  "nbformat_minor": 0,
  "metadata": {
    "colab": {
      "name": "IMDB-WebScraping.ipynb",
      "provenance": [],
      "authorship_tag": "ABX9TyMpvDZtfE/kt1wTeGJTZPth",
      "include_colab_link": true
    },
    "kernelspec": {
      "name": "python3",
      "display_name": "Python 3"
    },
    "language_info": {
      "name": "python"
    }
  },
  "cells": [
    {
      "cell_type": "markdown",
      "metadata": {
        "id": "view-in-github",
        "colab_type": "text"
      },
      "source": [
        "<a href=\"https://colab.research.google.com/github/fathiUsman/IMDB_Webscraping/blob/main/IMDB_WebScraping.ipynb\" target=\"_parent\"><img src=\"https://colab.research.google.com/assets/colab-badge.svg\" alt=\"Open In Colab\"/></a>"
      ]
    },
    {
      "cell_type": "code",
      "metadata": {
        "id": "TI8AK5rxl7NW"
      },
      "source": [
        "#import all the packages\n",
        "\n",
        "import requests\n",
        "from bs4 import BeautifulSoup\n",
        "import pandas as pd\n",
        "from time import sleep\n"
      ],
      "execution_count": 1,
      "outputs": []
    },
    {
      "cell_type": "code",
      "metadata": {
        "id": "OzFNbrBJmCvt"
      },
      "source": [
        "#To get the contents of the specified URL, submit a request using the requests library. \n",
        "#This is the URL of the IMDB website containing the details movies released.\n",
        "\n",
        "url='https://www.imdb.com/search/title/?release_date=2021&sort=num_votes,desc&page'\n",
        "\n",
        "req = requests.get(url,headers = {'Accept-Language': 'en-US,en;q=0.8'})\n",
        "\n",
        "soup=BeautifulSoup(req.text,'html')\n",
        "print(soup.prettify())"
      ],
      "execution_count": null,
      "outputs": []
    },
    {
      "cell_type": "code",
      "metadata": {
        "colab": {
          "base_uri": "https://localhost:8080/",
          "height": 35
        },
        "id": "n426bR1LmCyV",
        "outputId": "4d4fe140-eee7-44d3-9a84-5c6f24f944de"
      },
      "source": [
        "# finding the first movie name in IMDB page\n",
        "soup.find('h3',attrs={'class': 'lister-item-header'}).a.text\n"
      ],
      "execution_count": 3,
      "outputs": [
        {
          "output_type": "execute_result",
          "data": {
            "application/vnd.google.colaboratory.intrinsic+json": {
              "type": "string"
            },
            "text/plain": [
              "\"Zack Snyder's Justice League\""
            ]
          },
          "metadata": {
            "tags": []
          },
          "execution_count": 3
        }
      ]
    },
    {
      "cell_type": "code",
      "metadata": {
        "colab": {
          "base_uri": "https://localhost:8080/",
          "height": 35
        },
        "id": "3bekCqb5mOSU",
        "outputId": "db274a25-c721-4290-f241-652fec788e83"
      },
      "source": [
        "# finding released year of the first movie in the list\n",
        "year=soup.find('span',attrs={'class':'lister-item-year text-muted unbold'}).text.replace('(','').replace(')','')   \n",
        "year"
      ],
      "execution_count": 4,
      "outputs": [
        {
          "output_type": "execute_result",
          "data": {
            "application/vnd.google.colaboratory.intrinsic+json": {
              "type": "string"
            },
            "text/plain": [
              "'2021'"
            ]
          },
          "metadata": {
            "tags": []
          },
          "execution_count": 4
        }
      ]
    },
    {
      "cell_type": "code",
      "metadata": {
        "colab": {
          "base_uri": "https://localhost:8080/",
          "height": 35
        },
        "id": "V4fgZJkdmOVI",
        "outputId": "d3738a95-9009-4a0e-e0ac-11371ce8baca"
      },
      "source": [
        "# finding star rating of the first movie in the list\n",
        "soup.find('div',attrs={'class':'inline-block ratings-imdb-rating'}).text.strip()          "
      ],
      "execution_count": 5,
      "outputs": [
        {
          "output_type": "execute_result",
          "data": {
            "application/vnd.google.colaboratory.intrinsic+json": {
              "type": "string"
            },
            "text/plain": [
              "'8.1'"
            ]
          },
          "metadata": {
            "tags": []
          },
          "execution_count": 5
        }
      ]
    },
    {
      "cell_type": "code",
      "metadata": {
        "colab": {
          "base_uri": "https://localhost:8080/",
          "height": 35
        },
        "id": "Ym4n3rAqmC1I",
        "outputId": "c8271902-716b-470d-ad7a-376c43bdea6e"
      },
      "source": [
        "# finding duration of the first movie in the list\n",
        "soup.find('span',attrs={'class':'runtime'}).text                  "
      ],
      "execution_count": 6,
      "outputs": [
        {
          "output_type": "execute_result",
          "data": {
            "application/vnd.google.colaboratory.intrinsic+json": {
              "type": "string"
            },
            "text/plain": [
              "'242 min'"
            ]
          },
          "metadata": {
            "tags": []
          },
          "execution_count": 6
        }
      ]
    },
    {
      "cell_type": "code",
      "metadata": {
        "id": "OCzwStKuz4Li",
        "colab": {
          "base_uri": "https://localhost:8080/",
          "height": 35
        },
        "outputId": "275e53e1-e684-45b9-9983-888635721051"
      },
      "source": [
        "#find the certificate detail of the first movie\n",
        "soup.find('span',attrs={'class':'certificate'}).text"
      ],
      "execution_count": 7,
      "outputs": [
        {
          "output_type": "execute_result",
          "data": {
            "application/vnd.google.colaboratory.intrinsic+json": {
              "type": "string"
            },
            "text/plain": [
              "'R'"
            ]
          },
          "metadata": {
            "tags": []
          },
          "execution_count": 7
        }
      ]
    },
    {
      "cell_type": "code",
      "metadata": {
        "colab": {
          "base_uri": "https://localhost:8080/",
          "height": 35
        },
        "id": "-D479NzGmC4A",
        "outputId": "9adbcf49-89bb-49f7-bb28-d271a031f10c"
      },
      "source": [
        "# finding genre of the first movie in the list\n",
        "soup.find('span',attrs={'class':'genre'}).text.strip()              "
      ],
      "execution_count": 8,
      "outputs": [
        {
          "output_type": "execute_result",
          "data": {
            "application/vnd.google.colaboratory.intrinsic+json": {
              "type": "string"
            },
            "text/plain": [
              "'Action, Adventure, Fantasy'"
            ]
          },
          "metadata": {
            "tags": []
          },
          "execution_count": 8
        }
      ]
    },
    {
      "cell_type": "code",
      "metadata": {
        "colab": {
          "base_uri": "https://localhost:8080/",
          "height": 35
        },
        "id": "x2j5EO8amC6t",
        "outputId": "1b08b591-6be4-4ffc-8f95-dee0f911abec"
      },
      "source": [
        "# finding metascore of the first movie in the list\n",
        "soup.find('span',attrs={'class':'metascore'}).text.strip()             "
      ],
      "execution_count": 9,
      "outputs": [
        {
          "output_type": "execute_result",
          "data": {
            "application/vnd.google.colaboratory.intrinsic+json": {
              "type": "string"
            },
            "text/plain": [
              "'54'"
            ]
          },
          "metadata": {
            "tags": []
          },
          "execution_count": 9
        }
      ]
    },
    {
      "cell_type": "code",
      "metadata": {
        "colab": {
          "base_uri": "https://localhost:8080/",
          "height": 35
        },
        "id": "kNOCNmq1mC9V",
        "outputId": "16227189-d459-4628-eb1f-fd1434f753d9"
      },
      "source": [
        "soup.find('span',attrs={'name':'nv'}).text"
      ],
      "execution_count": 10,
      "outputs": [
        {
          "output_type": "execute_result",
          "data": {
            "application/vnd.google.colaboratory.intrinsic+json": {
              "type": "string"
            },
            "text/plain": [
              "'305,963'"
            ]
          },
          "metadata": {
            "tags": []
          },
          "execution_count": 10
        }
      ]
    },
    {
      "cell_type": "code",
      "metadata": {
        "id": "fI_fFGuNrov2"
      },
      "source": [
        "#import time module\n",
        "#create empty list for all\n",
        "\n",
        "import time\n",
        "base_url='https://www.imdb.com/search/title/?release_date=2021-01-01,2021-12-31&sort=num_votes,desc&start='\n",
        "\n",
        "names = []\n",
        "release_year = []\n",
        "certificate = []\n",
        "duration = []\n",
        "genre = []\n",
        "rating = []\n",
        "metascore = []\n",
        "votes = []\n",
        "\n",
        "\n",
        "for i in range(1,101,50):\n",
        "  time.sleep(3)\n",
        "  req = requests.get(base_url+str(i)+'&ref_=adv_nxt',headers = {'Accept-Language':'en-US, en;q=0.5'})\n",
        "  soup = BeautifulSoup(req.text,'html')\n",
        "\n",
        "\n",
        "  # Finding each movie in a list\n",
        "  movies= soup.findAll('div',attrs={'class':'lister-item-content'})\n",
        "\n",
        "  # Extract datas by looping through each movie \n",
        "  for mov in movies:\n",
        "  \n",
        "    #Movie name\n",
        "    mov_name = mov.find('h3',attrs={'class':'lister-item-header'}).a.text \n",
        "    names.append(mov_name)\n",
        "\n",
        "    #Release year\n",
        "    year = mov.find('span',attrs={'class':'lister-item-year text-muted unbold'}).text\n",
        "    release_year.append(year)\n",
        "\n",
        "    #Certificate\n",
        "    c= mov.find('span',attrs={'class':'certificate'})\n",
        "    if c is None:\n",
        "      certificate.append(\"Not Available\")\n",
        "    else:\n",
        "      certificate.append(c.text) \n",
        "  \n",
        "    #Duration\n",
        "    d=mov.find('span',attrs={'class':'runtime'})\n",
        "    if d is None: \n",
        "      duration.append(\"Not Available\")\n",
        "    else:\n",
        "      duration.append(d.text)\n",
        "\n",
        "    #Genre\n",
        "    g = mov.find('span',attrs={'class':'genre'}).text.strip()\n",
        "    genre.append(genre)\n",
        "\n",
        "    #Rate\n",
        "    r = mov.find('div',attrs={'class':'inline-block ratings-imdb-rating'}).strong.text\n",
        "    rating.append(r)\n",
        "\n",
        "    #Metascore\n",
        "    meta= mov.find('div',attrs={'class':'inline-block ratings-metascore'})\n",
        "    if meta is None:\n",
        "      metascore.append(\"Not Available\")\n",
        "    else:\n",
        "      metascore.append(meta.span.text.strip())\n",
        "  \n",
        "    #Votes\n",
        "    v= mov.find('span',attrs={'name':'nv'}).text\n",
        "    votes.append(v)\n",
        "\n"
      ],
      "execution_count": 11,
      "outputs": []
    },
    {
      "cell_type": "code",
      "metadata": {
        "id": "dhLs2lnmnPxd",
        "colab": {
          "base_uri": "https://localhost:8080/"
        },
        "outputId": "ecede1a6-84c4-4bb8-9334-f1ece757f3d1"
      },
      "source": [
        "#Finding length of each item\n",
        "\n",
        "print(len(names))\n",
        "print(len(release_year))\n",
        "print(len(votes))\n",
        "print(len(genre))\n",
        "print(len(metascore))\n",
        "print(len(duration))\n",
        "print(len(certificate))\n",
        "print(len(rating))"
      ],
      "execution_count": 12,
      "outputs": [
        {
          "output_type": "stream",
          "text": [
            "100\n",
            "100\n",
            "100\n",
            "100\n",
            "100\n",
            "100\n",
            "100\n",
            "100\n"
          ],
          "name": "stdout"
        }
      ]
    },
    {
      "cell_type": "code",
      "metadata": {
        "id": "rDNn1o0B8on8"
      },
      "source": [
        "#merging all datas into a single frame and final data set will be displayed\n",
        "data = pd.DataFrame({'Movie':names,\n",
        "                   'Released Year':release_year,\n",
        "                   'Certificate':certificate,\n",
        "                   'Duration':duration,\n",
        "                   'Genre':genre,\n",
        "                   'Rating':rating,\n",
        "                   'Metascore':metascore,\n",
        "                   'Votes':votes})\n",
        "data"
      ],
      "execution_count": null,
      "outputs": []
    },
    {
      "cell_type": "code",
      "metadata": {
        "id": "Hu9o11K3nP01"
      },
      "source": [
        "#Data will be saved into csv file\n",
        "data.to_csv('IMDB-WebScraping.csv',index=False)\n",
        "data"
      ],
      "execution_count": null,
      "outputs": []
    },
    {
      "cell_type": "code",
      "metadata": {
        "id": "s6EA9YcDm05J"
      },
      "source": [
        ""
      ],
      "execution_count": null,
      "outputs": []
    },
    {
      "cell_type": "code",
      "metadata": {
        "id": "1vLjYJOym07y"
      },
      "source": [
        ""
      ],
      "execution_count": null,
      "outputs": []
    }
  ]
}