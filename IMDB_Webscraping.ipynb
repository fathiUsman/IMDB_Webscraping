{
  "nbformat": 4,
  "nbformat_minor": 0,
  "metadata": {
    "colab": {
      "name": "IMDB-Webscraping.ipynb",
      "provenance": [],
      "collapsed_sections": [],
      "authorship_tag": "ABX9TyNBHfjN9l5KecGBps/FNW4Y",
      "include_colab_link": true
    },
    "kernelspec": {
      "name": "python3",
      "display_name": "Python 3"
    },
    "language_info": {
      "name": "python"
    }
  },
  "cells": [
    {
      "cell_type": "markdown",
      "metadata": {
        "id": "view-in-github",
        "colab_type": "text"
      },
      "source": [
        "<a href=\"https://colab.research.google.com/github/fathiUsman/IMDB_Webscraping/blob/main/IMDB_Webscraping.ipynb\" target=\"_parent\"><img src=\"https://colab.research.google.com/assets/colab-badge.svg\" alt=\"Open In Colab\"/></a>"
      ]
    },
    {
      "cell_type": "code",
      "metadata": {
        "id": "TI8AK5rxl7NW"
      },
      "source": [
        "#import all the packages\n",
        "\n",
        "import requests\n",
        "from bs4 import BeautifulSoup\n",
        "import pandas as pd\n",
        "import time \n"
      ],
      "execution_count": 34,
      "outputs": []
    },
    {
      "cell_type": "code",
      "metadata": {
        "id": "OzFNbrBJmCvt"
      },
      "source": [
        "#To get the contents of the specified URL, submit a request using the requests library. \n",
        "#This is the URL of the IMDB website containing the details movies released.\n",
        "url='https://www.imdb.com/search/title/?release_date=2021&sort=num_votes,desc&page'\n",
        "\n",
        "req = requests.get(url,headers = {'Accept-Language': 'en-US,en;q=0.8'})\n",
        "\n",
        "soup=BeautifulSoup(req.text,'html')\n",
        "print(soup.prettify())"
      ],
      "execution_count": null,
      "outputs": []
    },
    {
      "cell_type": "code",
      "metadata": {
        "colab": {
          "base_uri": "https://localhost:8080/",
          "height": 35
        },
        "id": "n426bR1LmCyV",
        "outputId": "acff88e5-df7c-4f07-d5a3-7a2531e97b4f"
      },
      "source": [
        "# finding the first movie name in IMDB page\n",
        "soup.find('h3',attrs={'class': 'lister-item-header'}).a.text\n"
      ],
      "execution_count": 36,
      "outputs": [
        {
          "output_type": "execute_result",
          "data": {
            "application/vnd.google.colaboratory.intrinsic+json": {
              "type": "string"
            },
            "text/plain": [
              "\"Zack Snyder's Justice League\""
            ]
          },
          "metadata": {
            "tags": []
          },
          "execution_count": 36
        }
      ]
    },
    {
      "cell_type": "code",
      "metadata": {
        "colab": {
          "base_uri": "https://localhost:8080/",
          "height": 35
        },
        "id": "3bekCqb5mOSU",
        "outputId": "4b6a7aaa-202e-42b1-ec3a-efaa3244ab5a"
      },
      "source": [
        "# finding released year of the first movie in the list\n",
        "year=soup.find('span',attrs={'class':'lister-item-year text-muted unbold'}).text.replace('(','').replace(')','')   \n",
        "year"
      ],
      "execution_count": 37,
      "outputs": [
        {
          "output_type": "execute_result",
          "data": {
            "application/vnd.google.colaboratory.intrinsic+json": {
              "type": "string"
            },
            "text/plain": [
              "'2021'"
            ]
          },
          "metadata": {
            "tags": []
          },
          "execution_count": 37
        }
      ]
    },
    {
      "cell_type": "code",
      "metadata": {
        "colab": {
          "base_uri": "https://localhost:8080/",
          "height": 35
        },
        "id": "V4fgZJkdmOVI",
        "outputId": "f52f87e0-c4e8-4039-c6ec-524497eaae0e"
      },
      "source": [
        "# finding star rating of the first movie in the list\n",
        "soup.find('div',attrs={'class':'inline-block ratings-imdb-rating'}).text.strip()          "
      ],
      "execution_count": 38,
      "outputs": [
        {
          "output_type": "execute_result",
          "data": {
            "application/vnd.google.colaboratory.intrinsic+json": {
              "type": "string"
            },
            "text/plain": [
              "'8.1'"
            ]
          },
          "metadata": {
            "tags": []
          },
          "execution_count": 38
        }
      ]
    },
    {
      "cell_type": "code",
      "metadata": {
        "id": "c5VRo8ANmOXk"
      },
      "source": [
        "# finding the rating provided the first movie in the list"
      ],
      "execution_count": 39,
      "outputs": []
    },
    {
      "cell_type": "code",
      "metadata": {
        "colab": {
          "base_uri": "https://localhost:8080/",
          "height": 35
        },
        "id": "Ym4n3rAqmC1I",
        "outputId": "ce6d2902-88c5-4f5a-b371-442e053447f1"
      },
      "source": [
        "# finding duration of the first movie in the list\n",
        "soup.find('span',attrs={'class':'runtime'}).text                  "
      ],
      "execution_count": 40,
      "outputs": [
        {
          "output_type": "execute_result",
          "data": {
            "application/vnd.google.colaboratory.intrinsic+json": {
              "type": "string"
            },
            "text/plain": [
              "'242 min'"
            ]
          },
          "metadata": {
            "tags": []
          },
          "execution_count": 40
        }
      ]
    },
    {
      "cell_type": "code",
      "metadata": {
        "colab": {
          "base_uri": "https://localhost:8080/",
          "height": 35
        },
        "id": "-D479NzGmC4A",
        "outputId": "1fbda006-92be-4661-c8ac-9998879d94eb"
      },
      "source": [
        "# finding genre of the first movie in the list\n",
        "soup.find('span',attrs={'class':'genre'}).text.strip()              "
      ],
      "execution_count": 41,
      "outputs": [
        {
          "output_type": "execute_result",
          "data": {
            "application/vnd.google.colaboratory.intrinsic+json": {
              "type": "string"
            },
            "text/plain": [
              "'Action, Adventure, Fantasy'"
            ]
          },
          "metadata": {
            "tags": []
          },
          "execution_count": 41
        }
      ]
    },
    {
      "cell_type": "code",
      "metadata": {
        "colab": {
          "base_uri": "https://localhost:8080/",
          "height": 35
        },
        "id": "x2j5EO8amC6t",
        "outputId": "0605f53b-e39e-4ca8-f3e6-061445883273"
      },
      "source": [
        "# finding metascore of the first movie in the list\n",
        "soup.find('span',attrs={'class':'metascore'}).text.strip()             "
      ],
      "execution_count": 42,
      "outputs": [
        {
          "output_type": "execute_result",
          "data": {
            "application/vnd.google.colaboratory.intrinsic+json": {
              "type": "string"
            },
            "text/plain": [
              "'54'"
            ]
          },
          "metadata": {
            "tags": []
          },
          "execution_count": 42
        }
      ]
    },
    {
      "cell_type": "code",
      "metadata": {
        "colab": {
          "base_uri": "https://localhost:8080/",
          "height": 35
        },
        "id": "kNOCNmq1mC9V",
        "outputId": "6f5cea2c-73b9-4893-d189-d6b8b19b5273"
      },
      "source": [
        "# finding votes for the first movie in the list\n",
        "soup.find('p',attrs={'class':'sort-num_votes-visible'}).text.split(':')[1].strip()   "
      ],
      "execution_count": 43,
      "outputs": [
        {
          "output_type": "execute_result",
          "data": {
            "application/vnd.google.colaboratory.intrinsic+json": {
              "type": "string"
            },
            "text/plain": [
              "'305,926'"
            ]
          },
          "metadata": {
            "tags": []
          },
          "execution_count": 43
        }
      ]
    },
    {
      "cell_type": "code",
      "metadata": {
        "id": "Z3UPxC9dmDAZ"
      },
      "source": [
        "#Extracting the names of all the movies i\n",
        "n=soup.findAll('h3',attrs={'class': 'lister-item-header'})\n",
        "for i in n:\n",
        "  print(i.a.text)\n"
      ],
      "execution_count": null,
      "outputs": []
    },
    {
      "cell_type": "code",
      "metadata": {
        "id": "CRsIknR_mDC_"
      },
      "source": [
        "#Extracting the releasing year of all the movies \n",
        "year=[]\n",
        "y=soup.findAll('h3',attrs={'class':'lister-item-header'})\n",
        "yr=[i.findAll('span')[1] for i in y]\n",
        "year=[i.text[1:-1] for i in yr]\n",
        "year "
      ],
      "execution_count": null,
      "outputs": []
    },
    {
      "cell_type": "code",
      "metadata": {
        "id": "FpQPZoEVmDFV"
      },
      "source": [
        "#Extracting the star rating of all the movies\n",
        "r=soup.findAll('div',attrs={'class':'inline-block ratings-imdb-rating'})\n",
        "for i in r:\n",
        "  print(i.text.strip())          "
      ],
      "execution_count": null,
      "outputs": []
    },
    {
      "cell_type": "code",
      "metadata": {
        "id": "vnORzCx7mDKF"
      },
      "source": [
        "#Extracting the rating of all the movies#Few \n",
        "#Few ratings are not provided,those are printed as None,by removing the empty list\n",
        "rate=[]\n",
        "r=soup.findAll('p',attrs={'class' : 'text-muted'})\n",
        "rt=[i.findAll('span',attrs={'class':'certificate'}) for i in r]\n",
        "\n",
        "for i in rt:\n",
        "  if len(i)==0:\n",
        "    rt.remove(i)\n",
        "for i in rt:\n",
        "  if len (i)==0:\n",
        "    rate.append(None)\n",
        "  else:\n",
        "    rate.append(i[0].text)\n",
        "rate\n",
        "\n",
        " "
      ],
      "execution_count": null,
      "outputs": []
    },
    {
      "cell_type": "code",
      "metadata": {
        "id": "5FUBFComnE6n"
      },
      "source": [
        "#Extracting the duration of all the movies\n",
        "#Few duration of movies are not provided,those are printed as None,by removing the empty list\n",
        "\n",
        "\n",
        "duration=[]\n",
        "d=soup.findAll('p',attrs={'class' : 'text-muted'})\n",
        "dur=[i.findAll('span',attrs={'class':'runtime'}) for i in d]\n",
        "for i in dur:\n",
        "  if len(i)==0:\n",
        "    dur.remove(i)\n",
        "for i in dur:\n",
        "  if len(i)==0:\n",
        "    duration.append(None)\n",
        "  else:\n",
        "    duration.append(i[0].text)\n",
        "duration\n"
      ],
      "execution_count": null,
      "outputs": []
    },
    {
      "cell_type": "code",
      "metadata": {
        "id": "UxgOQoK2nE9N"
      },
      "source": [
        "#Extracting the genre of all the movies\n",
        "genre=[]\n",
        "g=soup.findAll('span',attrs={'class':'genre'})\n",
        "for i in g:\n",
        "  genre.append(i.text.strip())\n",
        "genre"
      ],
      "execution_count": null,
      "outputs": []
    },
    {
      "cell_type": "code",
      "metadata": {
        "id": "6TvzWcW1nFAO"
      },
      "source": [
        "#Extracting the metascore of all the movies\n",
        "metascore=[]\n",
        "ms=soup.findAll('div',attrs={'class':'ratings-bar'})\n",
        "for i in ms:\n",
        "  if i.find('span',attrs={'class':'metascore'})is not None:\n",
        "\n",
        "     m=i.find('span',attrs={'class':'metascore'}).text\n",
        "     metascore.append(m.strip())\n",
        "  else:\n",
        "    metascore.append(None)\n",
        "metascore\n"
      ],
      "execution_count": null,
      "outputs": []
    },
    {
      "cell_type": "code",
      "metadata": {
        "id": "6OOr61ZsnPqG"
      },
      "source": [
        "#Extracting the voting of all the movies\n",
        "voting=[]\n",
        "v=soup.findAll('span',attrs={'name':'nv'})\n",
        "for i in v:\n",
        "  voting.append(i.text)\n",
        "voting\n"
      ],
      "execution_count": null,
      "outputs": []
    },
    {
      "cell_type": "code",
      "metadata": {
        "id": "voKY6cK0I6Vm"
      },
      "source": [
        "#import time module\n",
        "#create empty list for all\n",
        "\n",
        "import time\n",
        "base_url='https://www.imdb.com/search/title/?release_date=2021-01-01,2021-12-31&sort=num_votes,desc&start='\n",
        "\n",
        "\n",
        "name=[]\n",
        "year=[]\n",
        "rate=[]\n",
        "stars=[]\n",
        "genre=[]\n",
        "duration=[]\n",
        "metascore=[]\n",
        "voting=[]\n",
        "\n",
        "\n",
        "for i in range(1,101,51):\n",
        "  time.sleep(3)\n",
        "  url=base_url+str(i)+'&ref_=adv_nxt'\n",
        "  req=requests.get(url)\n",
        "  soup=BeautifulSoup(req.text,'html')\n",
        "\n",
        "  #movie-name\n",
        "  \n",
        "  n=soup.findAll('h3',attrs={'class': 'lister-item-header'})\n",
        "  for i in n:\n",
        "    name.append(i.a.text)\n",
        "\n",
        "  #year\n",
        "  \n",
        "  y=soup.findAll('h3',attrs={'class':'lister-item-header'})\n",
        "  yr=[i.findAll('span')[1] for i in y]\n",
        "  [year.append(i.text[1:-1]) for i in yr]\n",
        "  \n",
        "\n",
        "  #Rated  \n",
        "\n",
        "  r=soup.findAll('p',attrs={'class' : 'text-muted'})\n",
        "  rt=[i.findAll('span',attrs={'class':'certificate'}) for i in r]\n",
        "\n",
        "  for i in rt:\n",
        "    if len(i)==0:\n",
        "      rt.remove(i)\n",
        "  for i in rt:\n",
        "    if len (i)==0:\n",
        "      rate.append(None)\n",
        "    else:\n",
        "      rate.append(i[0].text)\n",
        "\n",
        "  #stars\n",
        "  \n",
        "  s=soup.findAll('div',attrs={'class':'ratings-imdb-rating'})\n",
        "  for i in s:\n",
        "   stars.append(i.strong.text)\n",
        "\n",
        "  #genre\n",
        "  \n",
        "  g=soup.findAll('span',attrs={'class':'genre'})\n",
        "  for i in g:\n",
        "   genre.append(i.text.strip())\n",
        "\n",
        "\n",
        "  #duration\n",
        "  \n",
        "  d=soup.findAll('p',attrs={'class' : 'text-muted'})\n",
        "  dur=[i.findAll('span',attrs={'class':'runtime'}) for i in d]\n",
        "  for i in dur:\n",
        "   if len(i)==0:\n",
        "     dur.remove(i)\n",
        "  for i in dur:\n",
        "    if len(i)==0:\n",
        "     duration.append(None)\n",
        "    else:\n",
        "      duration.append(i[0].text)\n",
        "\n",
        "    #Metascore\n",
        "  \n",
        "  ms=soup.findAll('div',attrs={'class':'ratings-bar'})\n",
        "  for i in ms:\n",
        "    if i.find('span',attrs={'class':'metascore'})is not None:\n",
        "       m=i.find('span',attrs={'class':'metascore'}).text\n",
        "       metascore.append(m.strip())\n",
        "    else:\n",
        "      metascore.append(None)\n",
        "\n",
        "\n",
        "\n",
        "  #voting\n",
        "  \n",
        "  v=soup.findAll('span',attrs={'name':'nv'})\n",
        "  for i in v:\n",
        "    voting.append(i.text)\n",
        "\n"
      ],
      "execution_count": 52,
      "outputs": []
    },
    {
      "cell_type": "code",
      "metadata": {
        "colab": {
          "base_uri": "https://localhost:8080/"
        },
        "id": "dhLs2lnmnPxd",
        "outputId": "9ba1615b-0d45-4082-9684-7c9475b0d236"
      },
      "source": [
        "#Finding length of each item\n",
        "print(len(name))\n",
        "print(len(year))\n",
        "print(len(voting))\n",
        "print(len(genre))\n",
        "print(len(metascore))\n",
        "print(len(duration))\n",
        "print(len(rate))\n",
        "print(len(stars))"
      ],
      "execution_count": 53,
      "outputs": [
        {
          "output_type": "stream",
          "text": [
            "100\n",
            "100\n",
            "100\n",
            "100\n",
            "100\n",
            "100\n",
            "100\n",
            "100\n"
          ],
          "name": "stdout"
        }
      ]
    },
    {
      "cell_type": "code",
      "metadata": {
        "id": "x_qK2SH_I6Yk"
      },
      "source": [
        "#merging all datas into a single frame and final data set will be displayed\n",
        "data=pd.DataFrame({'Movie_Name' : name,\n",
        "                   'year':year,\n",
        "                   'votes' : voting,\n",
        "                   'genre': genre,\n",
        "                  'metascore':metascore,\n",
        "                   'duration':duration,\n",
        "                   'Ratings': rate,\n",
        "                   'stars':stars\n",
        "                   \n",
        "                   })\n",
        "data"
      ],
      "execution_count": null,
      "outputs": []
    },
    {
      "cell_type": "code",
      "metadata": {
        "colab": {
          "base_uri": "https://localhost:8080/",
          "height": 419
        },
        "id": "Hu9o11K3nP01",
        "outputId": "b38d4ea7-7877-44e4-a2a7-481e7723fc29"
      },
      "source": [
        "#Data will be saved into csv file\n",
        "data.to_csv('IMDB-Webscraping.csv',index=False)\n",
        "data"
      ],
      "execution_count": 55,
      "outputs": [
        {
          "output_type": "execute_result",
          "data": {
            "text/html": [
              "<div>\n",
              "<style scoped>\n",
              "    .dataframe tbody tr th:only-of-type {\n",
              "        vertical-align: middle;\n",
              "    }\n",
              "\n",
              "    .dataframe tbody tr th {\n",
              "        vertical-align: top;\n",
              "    }\n",
              "\n",
              "    .dataframe thead th {\n",
              "        text-align: right;\n",
              "    }\n",
              "</style>\n",
              "<table border=\"1\" class=\"dataframe\">\n",
              "  <thead>\n",
              "    <tr style=\"text-align: right;\">\n",
              "      <th></th>\n",
              "      <th>Movie_Name</th>\n",
              "      <th>year</th>\n",
              "      <th>votes</th>\n",
              "      <th>genre</th>\n",
              "      <th>metascore</th>\n",
              "      <th>duration</th>\n",
              "      <th>Ratings</th>\n",
              "      <th>stars</th>\n",
              "    </tr>\n",
              "  </thead>\n",
              "  <tbody>\n",
              "    <tr>\n",
              "      <th>0</th>\n",
              "      <td>Zack Snyder's Justice League</td>\n",
              "      <td>2021</td>\n",
              "      <td>305,926</td>\n",
              "      <td>Action, Adventure, Fantasy</td>\n",
              "      <td>54</td>\n",
              "      <td>242 min</td>\n",
              "      <td>R</td>\n",
              "      <td>8.1</td>\n",
              "    </tr>\n",
              "    <tr>\n",
              "      <th>1</th>\n",
              "      <td>Aspirants</td>\n",
              "      <td>2021–</td>\n",
              "      <td>271,687</td>\n",
              "      <td>Drama</td>\n",
              "      <td>None</td>\n",
              "      <td>45 min</td>\n",
              "      <td>TV-PG</td>\n",
              "      <td>9.0</td>\n",
              "    </tr>\n",
              "    <tr>\n",
              "      <th>2</th>\n",
              "      <td>WandaVision</td>\n",
              "      <td>2021</td>\n",
              "      <td>185,209</td>\n",
              "      <td>Action, Comedy, Drama</td>\n",
              "      <td>None</td>\n",
              "      <td>350 min</td>\n",
              "      <td>TV-MA</td>\n",
              "      <td>8.1</td>\n",
              "    </tr>\n",
              "    <tr>\n",
              "      <th>3</th>\n",
              "      <td>Radhe</td>\n",
              "      <td>2021</td>\n",
              "      <td>163,365</td>\n",
              "      <td>Action, Crime, Thriller</td>\n",
              "      <td>None</td>\n",
              "      <td>135 min</td>\n",
              "      <td>PG-13</td>\n",
              "      <td>1.8</td>\n",
              "    </tr>\n",
              "    <tr>\n",
              "      <th>4</th>\n",
              "      <td>Godzilla vs. Kong</td>\n",
              "      <td>2021</td>\n",
              "      <td>145,292</td>\n",
              "      <td>Action, Sci-Fi, Thriller</td>\n",
              "      <td>59</td>\n",
              "      <td>113 min</td>\n",
              "      <td>R</td>\n",
              "      <td>6.4</td>\n",
              "    </tr>\n",
              "    <tr>\n",
              "      <th>...</th>\n",
              "      <td>...</td>\n",
              "      <td>...</td>\n",
              "      <td>...</td>\n",
              "      <td>...</td>\n",
              "      <td>...</td>\n",
              "      <td>...</td>\n",
              "      <td>...</td>\n",
              "      <td>...</td>\n",
              "    </tr>\n",
              "    <tr>\n",
              "      <th>95</th>\n",
              "      <td>The Falcon and the Winter Soldier</td>\n",
              "      <td>2021</td>\n",
              "      <td>13,648</td>\n",
              "      <td>Action, Adventure, Drama</td>\n",
              "      <td>None</td>\n",
              "      <td>45 min</td>\n",
              "      <td>None</td>\n",
              "      <td>8.8</td>\n",
              "    </tr>\n",
              "    <tr>\n",
              "      <th>96</th>\n",
              "      <td>Bliss</td>\n",
              "      <td>I) (2021</td>\n",
              "      <td>13,597</td>\n",
              "      <td>Drama, Romance, Sci-Fi</td>\n",
              "      <td>40</td>\n",
              "      <td>47 min</td>\n",
              "      <td>TV-14</td>\n",
              "      <td>5.3</td>\n",
              "    </tr>\n",
              "    <tr>\n",
              "      <th>97</th>\n",
              "      <td>Them</td>\n",
              "      <td>2021–</td>\n",
              "      <td>13,347</td>\n",
              "      <td>Drama, Horror, Thriller</td>\n",
              "      <td>None</td>\n",
              "      <td>None</td>\n",
              "      <td>None</td>\n",
              "      <td>7.3</td>\n",
              "    </tr>\n",
              "    <tr>\n",
              "      <th>98</th>\n",
              "      <td>The Falcon and the Winter Soldier</td>\n",
              "      <td>2021</td>\n",
              "      <td>13,045</td>\n",
              "      <td>Action, Adventure, Drama</td>\n",
              "      <td>None</td>\n",
              "      <td>24 min</td>\n",
              "      <td>TV-MA</td>\n",
              "      <td>7.9</td>\n",
              "    </tr>\n",
              "    <tr>\n",
              "      <th>99</th>\n",
              "      <td>Attack on Titan</td>\n",
              "      <td>2013–2021</td>\n",
              "      <td>12,974</td>\n",
              "      <td>Animation, Action, Adventure</td>\n",
              "      <td>None</td>\n",
              "      <td>None</td>\n",
              "      <td>None</td>\n",
              "      <td>8.9</td>\n",
              "    </tr>\n",
              "  </tbody>\n",
              "</table>\n",
              "<p>100 rows × 8 columns</p>\n",
              "</div>"
            ],
            "text/plain": [
              "                            Movie_Name       year  ... Ratings stars\n",
              "0         Zack Snyder's Justice League       2021  ...       R   8.1\n",
              "1                            Aspirants     2021–   ...   TV-PG   9.0\n",
              "2                          WandaVision       2021  ...   TV-MA   8.1\n",
              "3                                Radhe       2021  ...   PG-13   1.8\n",
              "4                    Godzilla vs. Kong       2021  ...       R   6.4\n",
              "..                                 ...        ...  ...     ...   ...\n",
              "95   The Falcon and the Winter Soldier       2021  ...    None   8.8\n",
              "96                               Bliss   I) (2021  ...   TV-14   5.3\n",
              "97                                Them     2021–   ...    None   7.3\n",
              "98   The Falcon and the Winter Soldier       2021  ...   TV-MA   7.9\n",
              "99                     Attack on Titan  2013–2021  ...    None   8.9\n",
              "\n",
              "[100 rows x 8 columns]"
            ]
          },
          "metadata": {
            "tags": []
          },
          "execution_count": 55
        }
      ]
    }
  ]
}